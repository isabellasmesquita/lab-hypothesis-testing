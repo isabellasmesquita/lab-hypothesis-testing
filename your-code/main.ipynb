{
 "cells": [
  {
   "cell_type": "markdown",
   "metadata": {},
   "source": [
    "# Before your start:\n",
    "- Read the README.md file\n",
    "- Comment as much as you can and use the resources (README.md file)\n",
    "- Happy learning!"
   ]
  },
  {
   "cell_type": "code",
   "execution_count": 1,
   "metadata": {},
   "outputs": [],
   "source": [
    "# import numpy and pandas\n",
    "import pandas as pd\n",
    "import numpy as np\n",
    "from scipy.stats import trim_mean, mode, skew, gaussian_kde, pearsonr, spearmanr, beta\n",
    "from statsmodels.stats.weightstats import ztest as ztest\n",
    "\n",
    "from scipy.stats import ttest_ind, norm, t\n",
    "from scipy.stats import f_oneway\n",
    "from scipy.stats import sem"
   ]
  },
  {
   "cell_type": "markdown",
   "metadata": {},
   "source": [
    "# Challenge 1\n",
    "\n",
    "This is a placeholder to make the AI corrector be able to find the correct exercise for feedback"
   ]
  },
  {
   "cell_type": "code",
   "execution_count": 6,
   "metadata": {},
   "outputs": [],
   "source": [
    "# Run this code:\n",
    "salaries = pd.read_csv('C:/Users/isabe/OneDrive/Документы/ironhack/LEaRNGIT/lab 14/lab-hypothesis-testing/data/Current_Employee_Names__Salaries__and_Position_Titles.csv')"
   ]
  },
  {
   "cell_type": "markdown",
   "metadata": {},
   "source": [
    "# Challenge 2 - Hypothesis Tests\n",
    "\n",
    "In this section of the lab, we will test whether the hourly wage of all hourly workers is significantly different from $30/hr. Import the correct one sample test function from scipy and perform the hypothesis test for a 95% two sided confidence interval."
   ]
  },
  {
   "cell_type": "code",
   "execution_count": 11,
   "metadata": {},
   "outputs": [
    {
     "name": "stdout",
     "output_type": "stream",
     "text": [
      "One-sample t-test results:\n",
      "Number of hourly workers: 8022\n",
      "Mean hourly rate: $ 32.79\n",
      "t-statistic: 20.6198\n",
      "p-value: 0.0\n",
      "95% Confidence Interval:\n",
      "Lower bound: $ 32.52\n",
      "Upper bound: $ 33.05\n"
     ]
    }
   ],
   "source": [
    "# Import required libraries\n",
    "import pandas as pd\n",
    "import numpy as np\n",
    "from scipy import stats\n",
    "\n",
    "\n",
    "\n",
    "# Filter for hourly workers and get their hourly rate\n",
    "hourly_workers = salaries[salaries['Salary or Hourly'] == 'Hourly']['Hourly Rate'].dropna()\n",
    "\n",
    "# Perform one-sample t-test against mu=30\n",
    "t_stat, p_value = stats.ttest_1samp(hourly_workers, 30)\n",
    "\n",
    "# Calculate confidence interval (95%)\n",
    "confidence_level = 0.95\n",
    "degrees_of_freedom = len(hourly_workers) - 1\n",
    "standard_error = stats.sem(hourly_workers)\n",
    "t_value = stats.t.ppf((1 + confidence_level) / 2, degrees_of_freedom)\n",
    "margin_of_error = t_value * standard_error\n",
    "\n",
    "mean_hourly = hourly_workers.mean()\n",
    "ci_lower = mean_hourly - margin_of_error\n",
    "ci_upper = mean_hourly + margin_of_error\n",
    "\n",
    "print(\"One-sample t-test results:\")\n",
    "print(\"Number of hourly workers:\", len(hourly_workers))\n",
    "print(\"Mean hourly rate: $\", round(mean_hourly, 2))\n",
    "print(\"t-statistic:\", round(t_stat, 4))\n",
    "print(\"p-value:\", round(p_value, 4))\n",
    "print(\"\\\n",
    "95% Confidence Interval:\")\n",
    "print(\"Lower bound: $\", round(ci_lower, 2))\n",
    "print(\"Upper bound: $\", round(ci_upper, 2))\n"
   ]
  },
  {
   "cell_type": "markdown",
   "metadata": {},
   "source": [
    "# Challenge 3\n",
    "\n",
    "This is a placeholder to make the AI corrector be able to find the correct exercise for feedback"
   ]
  },
  {
   "cell_type": "markdown",
   "metadata": {},
   "source": [
    "# Challenge 4 -  Hypothesis Tests of Proportions\n",
    "\n",
    "## This challenge is OPTIONAL\n",
    "\n",
    "Another type of one sample test is a hypothesis test of proportions. In this test, we examine whether the proportion of a group in our sample is significantly different than a fraction. \n",
    "\n",
    "You can read more about one sample proportion tests [here](http://sphweb.bumc.bu.edu/otlt/MPH-Modules/BS/SAS/SAS6-CategoricalData/SAS6-CategoricalData2.html).\n",
    "\n",
    "In the cell below, use the `proportions_ztest` function from `statsmodels` to perform a hypothesis test that will determine whether the number of hourly workers in the City of Chicago is significantly different from 25% at the 95% confidence level."
   ]
  },
  {
   "cell_type": "code",
   "execution_count": 14,
   "metadata": {},
   "outputs": [
    {
     "name": "stdout",
     "output_type": "stream",
     "text": [
      "One-sample proportion test results:\n",
      "Total workers: 33183\n",
      "Hourly workers: 8022\n",
      "Actual proportion of hourly workers: 24.18 %\n",
      "Test statistic: -3.51\n",
      "p-value: 0.0004\n"
     ]
    }
   ],
   "source": [
    "# Import required libraries\n",
    "import pandas as pd\n",
    "from statsmodels.stats.proportion import proportions_ztest\n",
    "\n",
    "# Count total workers and hourly workers\n",
    "total_workers = len(salaries)\n",
    "hourly_workers = len(salaries[salaries['Salary or Hourly'] == 'Hourly'])\n",
    "\n",
    "# Perform one-sample proportion test\n",
    "# count of successes, number of trials, hypothesized proportion\n",
    "test_stat, p_value = proportions_ztest(count=hourly_workers, \n",
    "                                     nobs=total_workers,\n",
    "                                     value=0.25,\n",
    "                                     alternative='two-sided')\n",
    "\n",
    "# Calculate actual proportion\n",
    "actual_proportion = hourly_workers / total_workers\n",
    "\n",
    "print(\"One-sample proportion test results:\")\n",
    "print(\"Total workers:\", total_workers)\n",
    "print(\"Hourly workers:\", hourly_workers)\n",
    "print(\"Actual proportion of hourly workers:\", round(actual_proportion * 100, 2), \"%\")\n",
    "print(\"Test statistic:\", round(test_stat, 4))\n",
    "print(\"p-value:\", round(p_value, 4))"
   ]
  }
 ],
 "metadata": {
  "kernelspec": {
   "display_name": "Python 3",
   "language": "python",
   "name": "python3"
  },
  "language_info": {
   "codemirror_mode": {
    "name": "ipython",
    "version": 3
   },
   "file_extension": ".py",
   "mimetype": "text/x-python",
   "name": "python",
   "nbconvert_exporter": "python",
   "pygments_lexer": "ipython3",
   "version": "3.12.7"
  }
 },
 "nbformat": 4,
 "nbformat_minor": 2
}
